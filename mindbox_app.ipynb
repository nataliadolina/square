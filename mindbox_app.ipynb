{
  "nbformat": 4,
  "nbformat_minor": 0,
  "metadata": {
    "colab": {
      "provenance": []
    },
    "kernelspec": {
      "name": "python3",
      "display_name": "Python 3"
    },
    "language_info": {
      "name": "python"
    }
  },
  "cells": [
    {
      "cell_type": "code",
      "execution_count": 1,
      "metadata": {
        "colab": {
          "base_uri": "https://localhost:8080/"
        },
        "id": "1qM5tvSyYJym",
        "outputId": "29a2cf78-eebc-455b-ecd4-14310e24ab2d"
      },
      "outputs": [
        {
          "output_type": "stream",
          "name": "stdout",
          "text": [
            "Collecting pyspark\n",
            "  Downloading pyspark-3.5.1.tar.gz (317.0 MB)\n",
            "\u001b[2K     \u001b[90m━━━━━━━━━━━━━━━━━━━━━━━━━━━━━━━━━━━━━━━━\u001b[0m \u001b[32m317.0/317.0 MB\u001b[0m \u001b[31m3.8 MB/s\u001b[0m eta \u001b[36m0:00:00\u001b[0m\n",
            "\u001b[?25h  Preparing metadata (setup.py) ... \u001b[?25l\u001b[?25hdone\n",
            "Requirement already satisfied: py4j==0.10.9.7 in /usr/local/lib/python3.10/dist-packages (from pyspark) (0.10.9.7)\n",
            "Building wheels for collected packages: pyspark\n",
            "  Building wheel for pyspark (setup.py) ... \u001b[?25l\u001b[?25hdone\n",
            "  Created wheel for pyspark: filename=pyspark-3.5.1-py2.py3-none-any.whl size=317488491 sha256=a1283ce548d99146521d471a76bc58a7012ac7390b72260686989fb95f26ddb6\n",
            "  Stored in directory: /root/.cache/pip/wheels/80/1d/60/2c256ed38dddce2fdd93be545214a63e02fbd8d74fb0b7f3a6\n",
            "Successfully built pyspark\n",
            "Installing collected packages: pyspark\n",
            "Successfully installed pyspark-3.5.1\n"
          ]
        }
      ],
      "source": [
        "! pip install pyspark"
      ]
    },
    {
      "cell_type": "code",
      "source": [
        "from pyspark.sql import SparkSession\n",
        "import os\n",
        "os.environ[\"PYARROW_IGNORE_TIMEZONE\"] = \"1\" # без этой строчки у нас будет возникать постоянное предупреждение с просьбой установить эту переменную в значение 1, что мы заранее и делаем\n",
        "\n",
        "\n",
        "spark = SparkSession.builder.getOrCreate()\n",
        "spark.conf.set(\"spark.sql.execution.arrow.pyspark.enabled\", \"true\")\n",
        "spark"
      ],
      "metadata": {
        "colab": {
          "base_uri": "https://localhost:8080/",
          "height": 219
        },
        "id": "DFyyXRlJYUTr",
        "outputId": "29604b08-101f-4ef6-9a6b-41b5d5b9c171"
      },
      "execution_count": 2,
      "outputs": [
        {
          "output_type": "execute_result",
          "data": {
            "text/plain": [
              "<pyspark.sql.session.SparkSession at 0x783773721ba0>"
            ],
            "text/html": [
              "\n",
              "            <div>\n",
              "                <p><b>SparkSession - in-memory</b></p>\n",
              "                \n",
              "        <div>\n",
              "            <p><b>SparkContext</b></p>\n",
              "\n",
              "            <p><a href=\"http://7f5c3b01dfd2:4040\">Spark UI</a></p>\n",
              "\n",
              "            <dl>\n",
              "              <dt>Version</dt>\n",
              "                <dd><code>v3.5.1</code></dd>\n",
              "              <dt>Master</dt>\n",
              "                <dd><code>local[*]</code></dd>\n",
              "              <dt>AppName</dt>\n",
              "                <dd><code>pyspark-shell</code></dd>\n",
              "            </dl>\n",
              "        </div>\n",
              "        \n",
              "            </div>\n",
              "        "
            ]
          },
          "metadata": {},
          "execution_count": 2
        }
      ]
    },
    {
      "cell_type": "code",
      "source": [
        "products = spark.createDataFrame([\n",
        "    {\"id\": 1, \"productName\": \"apples\"},\n",
        "    {\"id\": 2, \"productName\": \"bananas\"},\n",
        "    {\"id\": 3, \"productName\": \"cucumners\"},\n",
        "    {\"id\": 4, \"productName\": \"tomatoes\"},\n",
        "    {\"id\": 5, \"productName\": \"magazines\"},\n",
        "    {\"id\": 6, \"productName\": \"cars\"},\n",
        "    {\"id\": 7, \"productName\": \"bread\"}\n",
        "])"
      ],
      "metadata": {
        "id": "pUFbje31ZWI6"
      },
      "execution_count": 6,
      "outputs": []
    },
    {
      "cell_type": "code",
      "source": [
        "categories = spark.createDataFrame([\n",
        "    {\"id\": 1, \"categoryName\" : \"fruit\"},\n",
        "    {\"id\": 2, \"categoryName\" : \"food\"},\n",
        "    {\"id\": 3, \"categoryName\" : \"vegetables\"}\n",
        "])"
      ],
      "metadata": {
        "id": "tLGcDeHMb0aG"
      },
      "execution_count": 7,
      "outputs": []
    },
    {
      "cell_type": "code",
      "source": [
        "products_categories_pairs = spark.createDataFrame([\n",
        "    {\"id\" : 1, \"productId\" : 1, \"categoryId\" : 1},\n",
        "    {\"id\" : 2, \"productId\" : 1, \"categoryId\" : 2},\n",
        "    {\"id\" : 3, \"productId\" : 2, \"categoryId\" : 1},\n",
        "    {\"id\" : 4, \"productId\" : 2, \"categoryId\" : 2},\n",
        "    {\"id\" : 5, \"productId\" : 3, \"categoryId\" : 2},\n",
        "    {\"id\" : 6, \"productId\" : 3, \"categoryId\" : 3},\n",
        "    {\"id\" : 7, \"productId\" : 4, \"categoryId\" : 2},\n",
        "    {\"id\" : 8, \"productId\" : 4, \"categoryId\" : 3},\n",
        "    {\"id\" : 9, \"productId\" : 7, \"categoryId\" : 2},\n",
        "])"
      ],
      "metadata": {
        "id": "5CMyhwMLcgP-"
      },
      "execution_count": 8,
      "outputs": []
    },
    {
      "cell_type": "code",
      "source": [
        "products\\\n",
        ".join(products_categories_pairs, products.id == products_categories_pairs.productId, \"left\")\\\n",
        ".join(categories, categories.id == products_categories_pairs.categoryId, \"left\")\\\n",
        ".orderBy(products.id)\\\n",
        ".select(products.productName, categories.categoryName)\\\n",
        ".show()"
      ],
      "metadata": {
        "colab": {
          "base_uri": "https://localhost:8080/"
        },
        "id": "52_hC1UVduH2",
        "outputId": "4c6b20aa-322b-4f86-a405-95101c37f63f"
      },
      "execution_count": 23,
      "outputs": [
        {
          "output_type": "stream",
          "name": "stdout",
          "text": [
            "+-----------+------------+\n",
            "|productName|categoryName|\n",
            "+-----------+------------+\n",
            "|     apples|       fruit|\n",
            "|     apples|        food|\n",
            "|    bananas|       fruit|\n",
            "|    bananas|        food|\n",
            "|  cucumners|  vegetables|\n",
            "|  cucumners|        food|\n",
            "|   tomatoes|  vegetables|\n",
            "|   tomatoes|        food|\n",
            "|  magazines|        NULL|\n",
            "|       cars|        NULL|\n",
            "|      bread|        food|\n",
            "+-----------+------------+\n",
            "\n"
          ]
        }
      ]
    }
  ]
}